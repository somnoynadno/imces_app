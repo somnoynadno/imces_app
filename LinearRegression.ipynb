{
 "cells": [
  {
   "cell_type": "code",
   "execution_count": 122,
   "metadata": {},
   "outputs": [
    {
     "name": "stdout",
     "output_type": "stream",
     "text": [
      "Requirement already satisfied: mysql-connector in c:\\users\\admin\\anaconda3\\lib\\site-packages (2.2.9)\n"
     ]
    }
   ],
   "source": [
    "!pip install mysql-connector\n",
    "import mysql.connector\n",
    "import datetime\n",
    "import numpy as np\n",
    "import pandas as pd\n",
    "import sklearn"
   ]
  },
  {
   "cell_type": "code",
   "execution_count": 148,
   "metadata": {},
   "outputs": [],
   "source": [
    "conn = mysql.connector.connect(\n",
    "         user='Fomin',\n",
    "         password='VvbrKYKj',\n",
    "         host='imces.ru',\n",
    "         port=22303,\n",
    "         database='apik3')\n",
    "\n",
    "cursor = conn.cursor()\n",
    "query = (\"select time, `1000`, `1005`, `1010`, `1015`, `1020`, `1030`, `1040`, `1050`, `1060` from `60000033` order by time limit 1800\")\n",
    "cursor.execute(query)\n",
    "\n",
    "result = []\n",
    "dates = []\n",
    "for line in cursor:\n",
    "    result.append(list(line[1:10]))\n",
    "    dates.append(datetime.datetime.fromtimestamp(line[0]).date())\n",
    "\n",
    "res = np.array(result)\n",
    "dates = np.array(dates)\n",
    "\n",
    "conn.close()"
   ]
  },
  {
   "cell_type": "code",
   "execution_count": 149,
   "metadata": {},
   "outputs": [
    {
     "name": "stderr",
     "output_type": "stream",
     "text": [
      "C:\\Users\\Admin\\Anaconda3\\lib\\site-packages\\ipykernel_launcher.py:17: FutureWarning: Method .as_matrix will be removed in a future version. Use .values instead.\n"
     ]
    }
   ],
   "source": [
    "temp = []\n",
    "means = []\n",
    "i = 0\n",
    "while i < len(res)-1:\n",
    "    date = dates[i]\n",
    "    temp.append(list(res[i]))\n",
    "    i += 1\n",
    "    while dates[i] == date:\n",
    "        temp.append(list(res[i]))\n",
    "        i += 1\n",
    "        if i == len(res):\n",
    "            break\n",
    "\n",
    "    temp = np.array(temp)\n",
    "    temp_frame = pd.DataFrame(data=temp, dtype=np.float)\n",
    "\n",
    "    mean_t = temp_frame.describe(include='all').as_matrix()[1]\n",
    "    means.append(mean_t)\n",
    "    \n",
    "    temp = []"
   ]
  },
  {
   "cell_type": "code",
   "execution_count": 150,
   "metadata": {},
   "outputs": [],
   "source": [
    "means = np.array(means).transpose()"
   ]
  },
  {
   "cell_type": "code",
   "execution_count": 151,
   "metadata": {},
   "outputs": [],
   "source": [
    "mean = means[8]\n",
    "mean1= means[0]"
   ]
  },
  {
   "cell_type": "code",
   "execution_count": 152,
   "metadata": {},
   "outputs": [
    {
     "name": "stdout",
     "output_type": "stream",
     "text": [
      "R^2 =  0.9462921603994551\n"
     ]
    }
   ],
   "source": [
    "# для глубины 60 см\n",
    "y = mean\n",
    "x = np.array([i for i in range(len(y))]).reshape((-1, 1))\n",
    "\n",
    "from sklearn.model_selection import train_test_split\n",
    "from sklearn.linear_model import LinearRegression\n",
    "\n",
    "x_train, x_test, y_train, y_test = train_test_split(x, y, test_size=0.4)\n",
    "\n",
    "model=LinearRegression()\n",
    "model.fit(x_train, y_train)\n",
    "print('R^2 = ', format(model.score(x_train,y_train)))"
   ]
  },
  {
   "cell_type": "code",
   "execution_count": 153,
   "metadata": {},
   "outputs": [
    {
     "data": {
      "text/plain": [
       "[<matplotlib.lines.Line2D at 0xd0086d0>]"
      ]
     },
     "execution_count": 153,
     "metadata": {},
     "output_type": "execute_result"
    },
    {
     "data": {
      "image/png": "[encoded data removed]",
      "text/plain": [
       "<Figure size 432x288 with 1 Axes>"
      ]
     },
     "metadata": {
      "needs_background": "light"
     },
     "output_type": "display_data"
    }
   ],
   "source": [
    "#распределение температуры на максимальной глубине 60 см по дням\n",
    "import matplotlib.pyplot as plt\n",
    "\n",
    "fig = plt.figure()\n",
    "ax = plt.axes()\n",
    "\n",
    "ax.plot(x, y)"
   ]
  },
  {
   "cell_type": "code",
   "execution_count": 154,
   "metadata": {},
   "outputs": [
    {
     "name": "stdout",
     "output_type": "stream",
     "text": [
      "R^2 =  0.5668141414677867\n"
     ]
    }
   ],
   "source": [
    "# для глубины 0 см\n",
    "y = mean1\n",
    "x = np.array([i for i in range(len(y))]).reshape((-1, 1))\n",
    "\n",
    "from sklearn.model_selection import train_test_split\n",
    "from sklearn.linear_model import LinearRegression\n",
    "\n",
    "x_train, x_test, y_train, y_test = train_test_split(x, y, test_size=0.4)\n",
    "\n",
    "model=LinearRegression()\n",
    "model.fit(x_train, y_train)\n",
    "print('R^2 = ', format(model.score(x_train,y_train)))"
   ]
  },
  {
   "cell_type": "code",
   "execution_count": 155,
   "metadata": {},
   "outputs": [
    {
     "data": {
      "text/plain": [
       "[<matplotlib.lines.Line2D at 0xd04b230>]"
      ]
     },
     "execution_count": 155,
     "metadata": {},
     "output_type": "execute_result"
    },
    {
     "data": {
      "image/png": "[encoded data removed]",
      "text/plain": [
       "<Figure size 432x288 with 1 Axes>"
      ]
     },
     "metadata": {
      "needs_background": "light"
     },
     "output_type": "display_data"
    }
   ],
   "source": [
    "#распределение температуры на минимальной глубине 0 см по дням\n",
    "import matplotlib.pyplot as plt\n",
    "\n",
    "fig = plt.figure()\n",
    "ax = plt.axes()\n",
    "\n",
    "ax.plot(x, y)"
   ]
  },
  {
   "cell_type": "code",
   "execution_count": 159,
   "metadata": {},
   "outputs": [
    {
     "name": "stdout",
     "output_type": "stream",
     "text": [
      "Взят промежуток времени : 2019-09-25 - 2019-12-15\n"
     ]
    }
   ],
   "source": [
    "print(\"Взят промежуток времени : \" + str(dates[0]) + \" - \" + str(dates[len(dates)-1]))"
   ]
  }
 ],
 "metadata": {
  "kernelspec": {
   "display_name": "Python 3",
   "language": "python",
   "name": "python3"
  }
 },
 "nbformat": 4,
 "nbformat_minor": 2
}
